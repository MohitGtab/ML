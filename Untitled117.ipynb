{
 "cells": [
  {
   "cell_type": "code",
   "execution_count": 9,
   "id": "e12ea944",
   "metadata": {},
   "outputs": [
    {
     "data": {
      "text/plain": [
       "'<table border=\"1\" class=\"dataframe\">\\n  <thead>\\n    <tr style=\"text-align: right;\">\\n      <th></th>\\n      <th>Product Name</th>\\n      <th>Price</th>\\n      <th>Rating</th>\\n    </tr>\\n  </thead>\\n  <tbody>\\n    <tr>\\n      <th>0</th>\\n      <td>ASUS ROG Strix G15 (2021) Ryzen 9 Octa Core R9-5900HX - (16 GB/1 TB SSD/Windows 10 Home/4 GB Graphics/...</td>\\n      <td>₹1,02,990</td>\\n      <td>4.6</td>\\n    </tr>\\n    <tr>\\n      <th>1</th>\\n      <td>HP 14s Ryzen 5 Hexa Core 5500U - (8 GB/512 GB SSD/Windows 10 Home) 14s-fq1030AU Thin and Light Laptop</td>\\n      <td>₹51,490</td>\\n      <td>4.3</td>\\n    </tr>\\n    <tr>\\n      <th>2</th>\\n      <td>HP 14s Core i3 11th Gen - (8 GB/256 GB SSD/Windows 10 Home) 14s- DY2501TU Thin and Light Laptop</td>\\n      <td>₹41,890</td>\\n      <td>4.4</td>\\n    </tr>\\n    <tr>\\n      <th>3</th>\\n      <td>Lenovo IdeaPad 3 Core i3 10th Gen - (8 GB/1 TB HDD/Windows 10 Home) 15IML05 Thin and Light Laptop</td>\\n      <td>₹39,990</td>\\n      <td>4.1</td>\\n    </tr>\\n    <tr>\\n      <th>4</th>\\n      <td>Lenovo IdeaPad Slim 3i (2021) Core i3 11th Gen - (8 GB/512 GB SSD/Windows 10 Home) 14ITL6 Thin and Lig...</td>\\n      <td>₹45,990</td>\\n      <td>4.4</td>\\n    </tr>\\n    <tr>\\n      <th>5</th>\\n      <td>HP 15-ec1105AX Ryzen 5 Hexa Core 4600H - (8 GB/512 GB SSD/Windows 10 Home/4 GB Graphics/NVIDIA GeForce...</td>\\n      <td>₹59,990</td>\\n      <td>4.5</td>\\n    </tr>\\n    <tr>\\n      <th>6</th>\\n      <td>DELL Inspiron Core i3 10th Gen - (4 GB/256 GB SSD/Windows 10 Home) Inspiron 3501 Laptop</td>\\n      <td>₹39,890</td>\\n      <td>4.3</td>\\n    </tr>\\n    <tr>\\n      <th>7</th>\\n      <td>acer Aspire Ryzen 5 Hexa Core AMD Ryzen 5-5500U hexa-core - (8 GB/512 GB SSD/Windows 10 Home) A515-45 ...</td>\\n      <td>₹55,990</td>\\n      <td>4.4</td>\\n    </tr>\\n    <tr>\\n      <th>8</th>\\n      <td>HP Ryzen 5 Quad Core 3500U - (8 GB/1 TB HDD/256 GB SSD/Windows 10 Home) 14s-dk0501AU Thin and Light La...</td>\\n      <td>₹47,990</td>\\n      <td>4.4</td>\\n    </tr>\\n    <tr>\\n      <th>9</th>\\n      <td>HP 15s Core i3 11th Gen - (8 GB/512 GB SSD/Windows 10 Home) 15s-FQ2072TU Thin and Light Laptop</td>\\n      <td>₹45,990</td>\\n      <td>4.4</td>\\n    </tr>\\n    <tr>\\n      <th>10</th>\\n      <td>DELL Inspiron Ryzen 3 Dual Core 3250U - (8 GB/256 GB SSD/Windows 10) INSPIRON 3505 Laptop</td>\\n      <td>₹39,990</td>\\n      <td>4.1</td>\\n    </tr>\\n    <tr>\\n      <th>11</th>\\n      <td>Lenovo Ideapad Slim 5 Ryzen 7 Octa Core 4700U - (8 GB/512 GB SSD/Windows 10 Home) 14ARE05 Thin and Lig...</td>\\n      <td>₹57,990</td>\\n      <td>4.5</td>\\n    </tr>\\n    <tr>\\n      <th>12</th>\\n      <td>acer Aspire 7 Ryzen 5 Hexa Core 5500U - (8 GB/512 GB SSD/Windows 10 Home/4 GB Graphics/NVIDIA GeForce ...</td>\\n      <td>₹56,990</td>\\n      <td>4.5</td>\\n    </tr>\\n    <tr>\\n      <th>13</th>\\n      <td>Lenovo IdeaPad Core i3 10th Gen - (8 GB/256 GB SSD/Windows 10 Home) 14 IML 05 Thin and Light Laptop</td>\\n      <td>₹39,990</td>\\n      <td>4.2</td>\\n    </tr>\\n    <tr>\\n      <th>14</th>\\n      <td>acer Aspire 5 Core i3 11th Gen - (4 GB/256 GB SSD/Windows 10 Home) A515-56 Thin and Light Laptop</td>\\n      <td>₹38,990</td>\\n      <td>4.3</td>\\n    </tr>\\n    <tr>\\n      <th>15</th>\\n      <td>Lenovo Yoga 6 Ryzen 7 Octa Core 4700U - (16 GB/512 GB SSD/Windows 10 Home) 13ARE05 2 in 1 Laptop</td>\\n      <td>₹78,990</td>\\n      <td>4.5</td>\\n    </tr>\\n    <tr>\\n      <th>16</th>\\n      <td>HP HP Pavilion Core i5 11th Gen - (16 GB/512 GB SSD/Windows 10 Home) 14-dv0055TU Thin and Light Laptop</td>\\n      <td>₹65,990</td>\\n      <td>4.6</td>\\n    </tr>\\n    <tr>\\n      <th>17</th>\\n      <td>Lenovo IdeaPad 3 Core i3 10th Gen - (8 GB/1 TB HDD/Windows 10 Home) 15IML05 Thin and Light Laptop</td>\\n      <td>₹39,990</td>\\n      <td>4.2</td>\\n    </tr>\\n    <tr>\\n      <th>18</th>\\n      <td>DELL Inspiron Pentium Quad Core - (4 GB/256 GB SSD/Windows 10 Home) Inspiron 3502 Thin and Light Lapto...</td>\\n      <td>₹30,790</td>\\n      <td>4.3</td>\\n    </tr>\\n    <tr>\\n      <th>19</th>\\n      <td>MSI Modern 14 Ryzen 5 Hexa Core 4500U - (8 GB/512 GB SSD/Windows 10 Home) Modern 14 B4MW-423IN Noteboo...</td>\\n      <td>₹54,990</td>\\n      <td>-1.0</td>\\n    </tr>\\n    <tr>\\n      <th>20</th>\\n      <td>MSI GF63 Thin Hexa Core i5 10th Gen - (8 GB/1 TB HDD/256 GB SSD/Windows 10 Home/4 GB Graphics/NVIDIA G...</td>\\n      <td>₹59,990</td>\\n      <td>4.4</td>\\n    </tr>\\n    <tr>\\n      <th>21</th>\\n      <td>Lenovo APU Dual Core A9 A99425 - (4 GB/1 TB HDD/Windows 10) E41-45 Notebook</td>\\n      <td>₹28,000</td>\\n      <td>4.3</td>\\n    </tr>\\n    <tr>\\n      <th>22</th>\\n      <td>Lenovo IdeaPad 3 Core i3 11th Gen - (8 GB/512 GB SSD/Windows 10 Home) 15ITL6 Thin and Light Laptop</td>\\n      <td>₹44,490</td>\\n      <td>4.3</td>\\n    </tr>\\n    <tr>\\n      <th>23</th>\\n      <td>Lenovo IdeaPad Ryzen 5 Hexa Core 5500U - (8 GB/512 GB SSD/Windows 10 Home) IdeaPad 5 15ALC05 Thin and ...</td>\\n      <td>₹57,490</td>\\n      <td>-1.0</td>\\n    </tr>\\n  </tbody>\\n</table>'"
      ]
     },
     "execution_count": 9,
     "metadata": {},
     "output_type": "execute_result"
    }
   ],
   "source": [
    "\n",
    "# Python program to convert\n",
    "# CSV to HTML Table\n",
    " \n",
    "import pandas as pd\n",
    "# to read csv file named \"samplee\"\n",
    "a = pd.read_csv(\"products.csv\")\n",
    " \n",
    "# to save as html file\n",
    "# named as \"Table\"\n",
    "a.to_html(\"Table.htm\")\n",
    " # assign it to a\n",
    "# variable (string)\n",
    "html_file = a.to_html()\n",
    "html_file"
   ]
  },
  {
   "cell_type": "code",
   "execution_count": null,
   "id": "39ec99bc",
   "metadata": {},
   "outputs": [],
   "source": []
  }
 ],
 "metadata": {
  "kernelspec": {
   "display_name": "Python 3",
   "language": "python",
   "name": "python3"
  },
  "language_info": {
   "codemirror_mode": {
    "name": "ipython",
    "version": 3
   },
   "file_extension": ".py",
   "mimetype": "text/x-python",
   "name": "python",
   "nbconvert_exporter": "python",
   "pygments_lexer": "ipython3",
   "version": "3.8.10"
  }
 },
 "nbformat": 4,
 "nbformat_minor": 5
}
